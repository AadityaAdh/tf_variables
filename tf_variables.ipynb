{
  "nbformat": 4,
  "nbformat_minor": 0,
  "metadata": {
    "colab": {
      "provenance": [],
      "authorship_tag": "ABX9TyOFWpEKmysG99mBy4/KQ2xW",
      "include_colab_link": true
    },
    "kernelspec": {
      "name": "python3",
      "display_name": "Python 3"
    },
    "language_info": {
      "name": "python"
    }
  },
  "cells": [
    {
      "cell_type": "markdown",
      "metadata": {
        "id": "view-in-github",
        "colab_type": "text"
      },
      "source": [
        "<a href=\"https://colab.research.google.com/github/AadityaAdh/tf_variables/blob/main/tf_variables.ipynb\" target=\"_parent\"><img src=\"https://colab.research.google.com/assets/colab-badge.svg\" alt=\"Open In Colab\"/></a>"
      ]
    },
    {
      "cell_type": "code",
      "execution_count": null,
      "metadata": {
        "id": "YPWLARGL0944"
      },
      "outputs": [],
      "source": [
        "import tensorflow as tf"
      ]
    },
    {
      "cell_type": "markdown",
      "source": [
        "#tf.constant:\n",
        "\n",
        "Constants are immutable tensors, meaning their values cannot be changed after initialization.\n",
        "They are used for storing values that remain constant throughout the execution of a program.\n",
        "Constants are often used for model hyperparameters or fixed values that do not need to be updated during training.\n",
        "\n",
        "#tf.Variable:\n",
        "Variables, on the other hand, are mutable tensors that can be modified during the execution of a program.\n",
        "They are commonly used to represent trainable parameters in machine learning models, such as weights and biases.\n",
        "Variables are typically used for values that need to be updated and adjusted during the training process.\n",
        "\n",
        "variabable lai train garda change huna na dini banauna ni milxa tesko trainable vanni attribute lai none garae ra"
      ],
      "metadata": {
        "id": "t-OOAD8O1N7c"
      }
    },
    {
      "cell_type": "markdown",
      "source": [
        "#tf.variable\n",
        "    tf.Variable(\n",
        "      initial_value=None,\n",
        "      trainable=None,\n",
        "      validate_shape=True,\n",
        "      caching_device=None,\n",
        "      name=None,\n",
        "      variable_def=None,\n",
        "      dtype=None,\n",
        "      import_scope=None,\n",
        "      constraint=None,\n",
        "      synchronization=tf.VariableSynchronization.AUTO,\n",
        "      aggregation=tf.compat.v1.VariableAggregation.NONE,\n",
        "      shape=None,\n",
        "      experimental_enable_variable_lifting=True\n",
        "    )\n",
        "\n",
        "tei initial value vanya n dimensional array haru\n",
        "trainable vanya train garda yesko value change garauni ko nai"
      ],
      "metadata": {
        "id": "gDbNWbk-16dt"
      }
    },
    {
      "cell_type": "code",
      "source": [
        "x=tf.constant([1,2,3,4])\n",
        "x"
      ],
      "metadata": {
        "colab": {
          "base_uri": "https://localhost:8080/"
        },
        "id": "Jq9LCfTY1EYM",
        "outputId": "52e317f0-29d7-47eb-818b-afc2ac8baffb"
      },
      "execution_count": null,
      "outputs": [
        {
          "output_type": "execute_result",
          "data": {
            "text/plain": [
              "<tf.Tensor: shape=(4,), dtype=int32, numpy=array([1, 2, 3, 4], dtype=int32)>"
            ]
          },
          "metadata": {},
          "execution_count": 3
        }
      ]
    },
    {
      "cell_type": "code",
      "source": [
        "x+1"
      ],
      "metadata": {
        "colab": {
          "base_uri": "https://localhost:8080/"
        },
        "id": "fRpE2Gc32iXI",
        "outputId": "71b5e76d-81f5-40f9-a0c8-06bc29b7d08e"
      },
      "execution_count": null,
      "outputs": [
        {
          "output_type": "execute_result",
          "data": {
            "text/plain": [
              "<tf.Tensor: shape=(4,), dtype=int32, numpy=array([2, 3, 4, 5], dtype=int32)>"
            ]
          },
          "metadata": {},
          "execution_count": 4
        }
      ]
    },
    {
      "cell_type": "markdown",
      "source": [
        "#yaa ta constant ma jodi ra xa how?\n",
        "\n",
        "constant are immutable\n",
        "\n",
        "constant value ma jodna milxa ghatauna milxa aaru j man lagyo tyo garna milxa\n",
        "\n",
        "tara constant ko value change garna mildaina vanya ho\n",
        "\n",
        "tyo x ko value jailae pani tei nai hunxa vanya ho aani x ma jodna ghatauna j garna ni mili halxa"
      ],
      "metadata": {
        "id": "-HS1L8S23Yuu"
      }
    },
    {
      "cell_type": "markdown",
      "source": [
        "#variables are mutable\n",
        "vanya tyo variables vitra vako value nai pani change garna milxa\n",
        "\n",
        "by using assign\n",
        "\n",
        "    variable.assign(your new values)\n",
        "    "
      ],
      "metadata": {
        "id": "auv2iHY131q_"
      }
    },
    {
      "cell_type": "code",
      "source": [
        "v = tf.Variable(1.)\n",
        "v.assign(2.)\n",
        "\n"
      ],
      "metadata": {
        "colab": {
          "base_uri": "https://localhost:8080/"
        },
        "id": "WNycE4rS3XyD",
        "outputId": "2bf70c0b-4ed3-4c0f-a0c0-7f031d5f932f"
      },
      "execution_count": null,
      "outputs": [
        {
          "output_type": "execute_result",
          "data": {
            "text/plain": [
              "<tf.Variable 'UnreadVariable' shape=() dtype=float32, numpy=2.0>"
            ]
          },
          "metadata": {},
          "execution_count": 5
        }
      ]
    },
    {
      "cell_type": "code",
      "source": [
        "#tyo value ma certain value jode ra result tya rakhna ni milxa\n",
        "\n",
        "v = tf.Variable(1.)\n",
        "\n",
        "\n",
        "v.assign_add(0.5)\n",
        "\n",
        "#1+0.5=1.5\n"
      ],
      "metadata": {
        "colab": {
          "base_uri": "https://localhost:8080/"
        },
        "id": "iXe_D0Bf4Pfs",
        "outputId": "34119e7b-8cdb-4767-ffdf-7ebc5eba62da"
      },
      "execution_count": null,
      "outputs": [
        {
          "output_type": "execute_result",
          "data": {
            "text/plain": [
              "<tf.Variable 'UnreadVariable' shape=() dtype=float32, numpy=1.5>"
            ]
          },
          "metadata": {},
          "execution_count": 7
        }
      ]
    },
    {
      "cell_type": "markdown",
      "source": [
        "#constant to variables\n",
        "\n",
        "    tf.variables(your tf.constant)"
      ],
      "metadata": {
        "id": "sFROuOBR45LG"
      }
    },
    {
      "cell_type": "code",
      "source": [
        "j=tf.constant(1)\n",
        "j"
      ],
      "metadata": {
        "colab": {
          "base_uri": "https://localhost:8080/"
        },
        "id": "oCnGdx2X4dpi",
        "outputId": "1c4f2a2f-3bbe-4e42-f72f-2301cad19cdb"
      },
      "execution_count": null,
      "outputs": [
        {
          "output_type": "execute_result",
          "data": {
            "text/plain": [
              "<tf.Tensor: shape=(), dtype=int32, numpy=1>"
            ]
          },
          "metadata": {},
          "execution_count": 9
        }
      ]
    },
    {
      "cell_type": "code",
      "source": [
        "tf.Variable(j)"
      ],
      "metadata": {
        "colab": {
          "base_uri": "https://localhost:8080/"
        },
        "id": "rD23ZZfV5Ecz",
        "outputId": "05cc42b9-4ec6-4a79-a9eb-72e5970917a6"
      },
      "execution_count": null,
      "outputs": [
        {
          "output_type": "execute_result",
          "data": {
            "text/plain": [
              "<tf.Variable 'Variable:0' shape=() dtype=int32, numpy=1>"
            ]
          },
          "metadata": {},
          "execution_count": 11
        }
      ]
    },
    {
      "cell_type": "markdown",
      "source": [
        "#yesto variables haru weight,bias haru ko lagi useful hunxa as tyo values haru change gari ranu parxa"
      ],
      "metadata": {
        "id": "Mr7cbDk_5QYr"
      }
    },
    {
      "cell_type": "code",
      "source": [],
      "metadata": {
        "id": "IvwNGWZ55KNA"
      },
      "execution_count": null,
      "outputs": []
    }
  ]
}